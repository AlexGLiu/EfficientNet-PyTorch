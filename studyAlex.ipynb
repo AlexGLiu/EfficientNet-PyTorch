{
 "cells": [
  {
   "cell_type": "code",
   "execution_count": 1,
   "metadata": {},
   "outputs": [],
   "source": [
    "import collections"
   ]
  },
  {
   "cell_type": "code",
   "execution_count": 2,
   "metadata": {},
   "outputs": [],
   "source": [
    "# Parameters for the entire model (stem, all blocks, and head)\n",
    "GlobalParams = collections.namedtuple('GlobalParams', [\n",
    "    'batch_norm_momentum', 'batch_norm_epsilon', 'dropout_rate',\n",
    "    'num_classes', 'width_coefficient', 'depth_coefficient',\n",
    "    'depth_divisor', 'min_depth', 'drop_connect_rate', 'image_size'])"
   ]
  },
  {
   "cell_type": "code",
   "execution_count": 3,
   "metadata": {},
   "outputs": [],
   "source": [
    "w, d, s, p = (1.6, 2.2, 456, 0.4)"
   ]
  },
  {
   "cell_type": "code",
   "execution_count": 4,
   "metadata": {},
   "outputs": [],
   "source": [
    "width_coefficient=None\n",
    "depth_coefficient=None\n",
    "dropout_rate=0.2\n",
    "drop_connect_rate=0.2\n",
    "image_size=None\n",
    "num_classes=1000"
   ]
  },
  {
   "cell_type": "code",
   "execution_count": 5,
   "metadata": {},
   "outputs": [],
   "source": [
    "width_coefficient=w\n",
    "depth_coefficient=d\n",
    "dropout_rate=p\n",
    "image_size=s"
   ]
  },
  {
   "cell_type": "code",
   "execution_count": 6,
   "metadata": {},
   "outputs": [],
   "source": [
    "global_params = GlobalParams(\n",
    "    batch_norm_momentum=0.99,\n",
    "    batch_norm_epsilon=1e-3,\n",
    "    dropout_rate=dropout_rate,\n",
    "    drop_connect_rate=drop_connect_rate,\n",
    "    # data_format='channels_last',  # removed, this is always true in PyTorch\n",
    "    num_classes=num_classes,\n",
    "    width_coefficient=width_coefficient,\n",
    "    depth_coefficient=depth_coefficient,\n",
    "    depth_divisor=8,\n",
    "    min_depth=None,\n",
    "    image_size=image_size,\n",
    ")"
   ]
  },
  {
   "cell_type": "code",
   "execution_count": 7,
   "metadata": {},
   "outputs": [
    {
     "data": {
      "text/plain": [
       "GlobalParams(batch_norm_momentum=0.99, batch_norm_epsilon=0.001, dropout_rate=0.4, num_classes=1000, width_coefficient=1.6, depth_coefficient=2.2, depth_divisor=8, min_depth=None, drop_connect_rate=0.2, image_size=456)"
      ]
     },
     "execution_count": 7,
     "metadata": {},
     "output_type": "execute_result"
    }
   ],
   "source": [
    "global_params"
   ]
  },
  {
   "cell_type": "code",
   "execution_count": 8,
   "metadata": {},
   "outputs": [
    {
     "data": {
      "text/plain": [
       "1.6"
      ]
     },
     "execution_count": 8,
     "metadata": {},
     "output_type": "execute_result"
    }
   ],
   "source": [
    "multiplier = global_params.width_coefficient\n",
    "multiplier"
   ]
  },
  {
   "cell_type": "code",
   "execution_count": 9,
   "metadata": {},
   "outputs": [
    {
     "data": {
      "text/plain": [
       "8"
      ]
     },
     "execution_count": 9,
     "metadata": {},
     "output_type": "execute_result"
    }
   ],
   "source": [
    "divisor = global_params.depth_divisor\n",
    "divisor"
   ]
  },
  {
   "cell_type": "code",
   "execution_count": 10,
   "metadata": {},
   "outputs": [],
   "source": [
    "min_depth = global_params.min_depth\n",
    "min_depth"
   ]
  },
  {
   "cell_type": "code",
   "execution_count": 11,
   "metadata": {},
   "outputs": [
    {
     "data": {
      "text/plain": [
       "2.0"
      ]
     },
     "execution_count": 11,
     "metadata": {},
     "output_type": "execute_result"
    }
   ],
   "source": [
    "16.2//8"
   ]
  },
  {
   "cell_type": "code",
   "execution_count": 12,
   "metadata": {},
   "outputs": [],
   "source": [
    "import math"
   ]
  },
  {
   "cell_type": "code",
   "execution_count": 13,
   "metadata": {},
   "outputs": [
    {
     "data": {
      "text/plain": [
       "11"
      ]
     },
     "execution_count": 13,
     "metadata": {},
     "output_type": "execute_result"
    }
   ],
   "source": [
    "int(11.6)"
   ]
  },
  {
   "cell_type": "code",
   "execution_count": 14,
   "metadata": {},
   "outputs": [
    {
     "name": "stdout",
     "output_type": "stream",
     "text": [
      "0 0 0.5\n",
      "1 0 0.5\n",
      "2 0 0.5\n",
      "3 0 0.5\n",
      "4 1 0.5\n",
      "5 1 0.5\n",
      "6 1 0.5\n",
      "7 1 0.5\n",
      "8 1 1.5\n",
      "9 1 1.5\n",
      "10 1 1.5\n",
      "11 1 1.5\n",
      "12 2 1.5\n",
      "13 2 1.5\n",
      "14 2 1.5\n",
      "15 2 1.5\n",
      "16 2 2.5\n",
      "17 2 2.5\n",
      "18 2 2.5\n",
      "19 2 2.5\n",
      "20 3 2.5\n",
      "21 3 2.5\n",
      "22 3 2.5\n",
      "23 3 2.5\n",
      "24 3 3.5\n",
      "25 3 3.5\n",
      "26 3 3.5\n",
      "27 3 3.5\n",
      "28 4 3.5\n"
     ]
    }
   ],
   "source": [
    "for i in range(29):\n",
    "    print(i, int(i + divisor / 2) // divisor, i//divisor+1/2)"
   ]
  },
  {
   "cell_type": "code",
   "execution_count": 15,
   "metadata": {
    "scrolled": false
   },
   "outputs": [
    {
     "name": "stdout",
     "output_type": "stream",
     "text": [
      "original enlarged raw_enlarged\n",
      "0 \t 8 \t  0.0\n",
      "1 \t 8 \t  1.6\n",
      "2 \t 8 \t  3.2\n",
      "3 \t 8 \t  4.8\n",
      "4 \t 8 \t  6.4\n",
      "5 \t 8 \t  8.0\n",
      "6 \t 8 \t  9.6\n",
      "7 \t 8 \t  11.2\n",
      "8 \t 16 \t  12.8\n",
      "9 \t 16 \t  14.4\n",
      "10 \t 16 \t  16.0\n",
      "11 \t 16 \t  17.6\n",
      "12 \t 16 \t  19.2\n",
      "13 \t 24 \t  20.8\n",
      "14 \t 24 \t  22.4\n",
      "15 \t 24 \t  24.0\n",
      "16 \t 24 \t  25.6\n",
      "17 \t 24 \t  27.2\n",
      "18 \t 32 \t  28.8\n",
      "19 \t 32 \t  30.4\n",
      "20 \t 32 \t  32.0\n",
      "21 \t 32 \t  33.6\n",
      "22 \t 32 \t  35.2\n",
      "23 \t 40 \t  36.8\n",
      "24 \t 40 \t  38.4\n",
      "25 \t 40 \t  40.0\n",
      "26 \t 40 \t  41.6\n",
      "27 \t 40 \t  43.2\n",
      "28 \t 48 \t  44.8\n",
      "29 \t 48 \t  46.4\n",
      "30 \t 48 \t  48.0\n",
      "31 \t 48 \t  49.6\n",
      "32 \t 48 \t  51.2\n",
      "33 \t 56 \t  52.8\n",
      "34 \t 56 \t  54.4\n",
      "35 \t 56 \t  56.0\n",
      "36 \t 56 \t  57.6\n",
      "37 \t 56 \t  59.2\n",
      "38 \t 64 \t  60.8\n",
      "39 \t 64 \t  62.4\n",
      "40 \t 64 \t  64.0\n",
      "41 \t 64 \t  65.6\n",
      "42 \t 64 \t  67.2\n",
      "43 \t 72 \t  68.8\n",
      "44 \t 72 \t  70.4\n",
      "45 \t 72 \t  72.0\n",
      "46 \t 72 \t  73.6\n",
      "47 \t 72 \t  75.2\n",
      "48 \t 80 \t  76.8\n",
      "49 \t 80 \t  78.4\n",
      "50 \t 80 \t  80.0\n",
      "51 \t 80 \t  81.6\n",
      "52 \t 80 \t  83.2\n",
      "53 \t 88 \t  84.8\n",
      "54 \t 88 \t  86.4\n",
      "55 \t 88 \t  88.0\n",
      "56 \t 88 \t  89.6\n",
      "57 \t 88 \t  91.2\n",
      "58 \t 96 \t  92.8\n",
      "59 \t 96 \t  94.4\n",
      "60 \t 96 \t  96.0\n",
      "61 \t 96 \t  97.6\n",
      "62 \t 96 \t  99.2\n",
      "63 \t 104 \t  100.8\n",
      "64 \t 104 \t  102.4\n"
     ]
    }
   ],
   "source": [
    "divisor = 8\n",
    "print(\"original\", \"enlarged\", \"raw_enlarged\")\n",
    "for filters in range(0,65):\n",
    "    reserve_filters = filters\n",
    "    filters *= multiplier\n",
    "    min_depth = min_depth or divisor\n",
    "    print(reserve_filters,'\\t', max(min_depth, int(filters + divisor / 2) // divisor * divisor), \"\\t  {:.1f}\".format(filters))\n",
    "#     print((int(filters + divisor / 2) // divisor * divisor)/filters)"
   ]
  },
  {
   "cell_type": "code",
   "execution_count": 16,
   "metadata": {},
   "outputs": [
    {
     "data": {
      "text/plain": [
       "163.84000000000003"
      ]
     },
     "execution_count": 16,
     "metadata": {},
     "output_type": "execute_result"
    }
   ],
   "source": [
    "filters *= multiplier\n",
    "filters"
   ]
  },
  {
   "cell_type": "code",
   "execution_count": 17,
   "metadata": {},
   "outputs": [
    {
     "data": {
      "text/plain": [
       "8"
      ]
     },
     "execution_count": 17,
     "metadata": {},
     "output_type": "execute_result"
    }
   ],
   "source": [
    "min_depth = min_depth or divisor\n",
    "min_depth"
   ]
  },
  {
   "cell_type": "code",
   "execution_count": 18,
   "metadata": {},
   "outputs": [
    {
     "data": {
      "text/plain": [
       "160"
      ]
     },
     "execution_count": 18,
     "metadata": {},
     "output_type": "execute_result"
    }
   ],
   "source": [
    "int(filters + divisor / 2) // divisor * divisor"
   ]
  },
  {
   "cell_type": "code",
   "execution_count": 19,
   "metadata": {},
   "outputs": [
    {
     "data": {
      "text/plain": [
       "147.45600000000005"
      ]
     },
     "execution_count": 19,
     "metadata": {},
     "output_type": "execute_result"
    }
   ],
   "source": [
    "0.9 * filters"
   ]
  },
  {
   "cell_type": "code",
   "execution_count": 20,
   "metadata": {},
   "outputs": [],
   "source": [
    "import torch"
   ]
  },
  {
   "cell_type": "code",
   "execution_count": 21,
   "metadata": {},
   "outputs": [],
   "source": [
    "random_tensor = 0.7\n",
    "random_tensor += torch.rand([32, 1, 1, 1])"
   ]
  },
  {
   "cell_type": "code",
   "execution_count": 22,
   "metadata": {},
   "outputs": [
    {
     "data": {
      "text/plain": [
       "torch.Size([32, 1, 1, 1])"
      ]
     },
     "execution_count": 22,
     "metadata": {},
     "output_type": "execute_result"
    }
   ],
   "source": [
    "random_tensor.size()"
   ]
  },
  {
   "cell_type": "code",
   "execution_count": 23,
   "metadata": {
    "scrolled": true
   },
   "outputs": [
    {
     "data": {
      "text/plain": [
       "tensor([[[[1.3432]]],\n",
       "\n",
       "\n",
       "        [[[1.0057]]],\n",
       "\n",
       "\n",
       "        [[[1.3466]]],\n",
       "\n",
       "\n",
       "        [[[0.7762]]],\n",
       "\n",
       "\n",
       "        [[[1.5343]]],\n",
       "\n",
       "\n",
       "        [[[1.3978]]],\n",
       "\n",
       "\n",
       "        [[[1.4116]]],\n",
       "\n",
       "\n",
       "        [[[0.8144]]],\n",
       "\n",
       "\n",
       "        [[[1.1580]]],\n",
       "\n",
       "\n",
       "        [[[1.6051]]],\n",
       "\n",
       "\n",
       "        [[[0.9519]]],\n",
       "\n",
       "\n",
       "        [[[0.8676]]],\n",
       "\n",
       "\n",
       "        [[[1.6145]]],\n",
       "\n",
       "\n",
       "        [[[1.4410]]],\n",
       "\n",
       "\n",
       "        [[[0.7030]]],\n",
       "\n",
       "\n",
       "        [[[1.0080]]],\n",
       "\n",
       "\n",
       "        [[[1.3719]]],\n",
       "\n",
       "\n",
       "        [[[0.7435]]],\n",
       "\n",
       "\n",
       "        [[[1.5560]]],\n",
       "\n",
       "\n",
       "        [[[1.6014]]],\n",
       "\n",
       "\n",
       "        [[[1.6060]]],\n",
       "\n",
       "\n",
       "        [[[1.2913]]],\n",
       "\n",
       "\n",
       "        [[[1.2301]]],\n",
       "\n",
       "\n",
       "        [[[1.2452]]],\n",
       "\n",
       "\n",
       "        [[[1.5272]]],\n",
       "\n",
       "\n",
       "        [[[1.3938]]],\n",
       "\n",
       "\n",
       "        [[[0.7095]]],\n",
       "\n",
       "\n",
       "        [[[1.4193]]],\n",
       "\n",
       "\n",
       "        [[[1.4672]]],\n",
       "\n",
       "\n",
       "        [[[1.2569]]],\n",
       "\n",
       "\n",
       "        [[[1.6211]]],\n",
       "\n",
       "\n",
       "        [[[1.0012]]]])"
      ]
     },
     "execution_count": 23,
     "metadata": {},
     "output_type": "execute_result"
    }
   ],
   "source": [
    "random_tensor"
   ]
  },
  {
   "cell_type": "code",
   "execution_count": 42,
   "metadata": {},
   "outputs": [
    {
     "data": {
      "text/plain": [
       "tensor([[[0., 0., 0.,  ..., 0., 0., 0.],\n",
       "         [0., 0., 0.,  ..., 0., 0., 0.],\n",
       "         [0., 0., 0.,  ..., 0., 0., 0.],\n",
       "         ...,\n",
       "         [0., 0., 0.,  ..., 0., 0., 0.],\n",
       "         [0., 0., 0.,  ..., 0., 0., 0.],\n",
       "         [0., 0., 0.,  ..., 0., 0., 0.]],\n",
       "\n",
       "        [[0., 0., 0.,  ..., 0., 0., 0.],\n",
       "         [0., 0., 0.,  ..., 0., 0., 0.],\n",
       "         [0., 0., 0.,  ..., 0., 0., 0.],\n",
       "         ...,\n",
       "         [0., 0., 0.,  ..., 0., 0., 0.],\n",
       "         [0., 0., 0.,  ..., 0., 0., 0.],\n",
       "         [0., 0., 0.,  ..., 0., 0., 0.]],\n",
       "\n",
       "        [[0., 0., 0.,  ..., 0., 0., 0.],\n",
       "         [0., 0., 0.,  ..., 0., 0., 0.],\n",
       "         [0., 0., 0.,  ..., 0., 0., 0.],\n",
       "         ...,\n",
       "         [0., 0., 0.,  ..., 0., 0., 0.],\n",
       "         [0., 0., 0.,  ..., 0., 0., 0.],\n",
       "         [0., 0., 0.,  ..., 0., 0., 0.]]])"
      ]
     },
     "execution_count": 42,
     "metadata": {},
     "output_type": "execute_result"
    }
   ],
   "source": [
    "(((torch.ones([32,3,224,224]) /0.7)*torch.floor(random_tensor))[3])"
   ]
  },
  {
   "cell_type": "code",
   "execution_count": 38,
   "metadata": {},
   "outputs": [
    {
     "data": {
      "text/plain": [
       "tensor([[[[1.]]],\n",
       "\n",
       "\n",
       "        [[[1.]]],\n",
       "\n",
       "\n",
       "        [[[0.]]],\n",
       "\n",
       "\n",
       "        [[[0.]]],\n",
       "\n",
       "\n",
       "        [[[1.]]],\n",
       "\n",
       "\n",
       "        [[[1.]]],\n",
       "\n",
       "\n",
       "        [[[1.]]],\n",
       "\n",
       "\n",
       "        [[[1.]]],\n",
       "\n",
       "\n",
       "        [[[1.]]],\n",
       "\n",
       "\n",
       "        [[[0.]]],\n",
       "\n",
       "\n",
       "        [[[1.]]],\n",
       "\n",
       "\n",
       "        [[[0.]]],\n",
       "\n",
       "\n",
       "        [[[1.]]],\n",
       "\n",
       "\n",
       "        [[[1.]]],\n",
       "\n",
       "\n",
       "        [[[0.]]],\n",
       "\n",
       "\n",
       "        [[[0.]]],\n",
       "\n",
       "\n",
       "        [[[0.]]],\n",
       "\n",
       "\n",
       "        [[[1.]]],\n",
       "\n",
       "\n",
       "        [[[1.]]],\n",
       "\n",
       "\n",
       "        [[[1.]]],\n",
       "\n",
       "\n",
       "        [[[1.]]],\n",
       "\n",
       "\n",
       "        [[[1.]]],\n",
       "\n",
       "\n",
       "        [[[1.]]],\n",
       "\n",
       "\n",
       "        [[[0.]]],\n",
       "\n",
       "\n",
       "        [[[1.]]],\n",
       "\n",
       "\n",
       "        [[[1.]]],\n",
       "\n",
       "\n",
       "        [[[1.]]],\n",
       "\n",
       "\n",
       "        [[[1.]]],\n",
       "\n",
       "\n",
       "        [[[1.]]],\n",
       "\n",
       "\n",
       "        [[[1.]]],\n",
       "\n",
       "\n",
       "        [[[0.]]],\n",
       "\n",
       "\n",
       "        [[[0.]]]])"
      ]
     },
     "execution_count": 38,
     "metadata": {},
     "output_type": "execute_result"
    }
   ],
   "source": [
    "torch.floor(random_tensor)"
   ]
  },
  {
   "cell_type": "code",
   "execution_count": null,
   "metadata": {},
   "outputs": [],
   "source": []
  }
 ],
 "metadata": {
  "kernelspec": {
   "display_name": "Python 3",
   "language": "python",
   "name": "python3"
  },
  "language_info": {
   "codemirror_mode": {
    "name": "ipython",
    "version": 3
   },
   "file_extension": ".py",
   "mimetype": "text/x-python",
   "name": "python",
   "nbconvert_exporter": "python",
   "pygments_lexer": "ipython3",
   "version": "3.7.5"
  }
 },
 "nbformat": 4,
 "nbformat_minor": 2
}
